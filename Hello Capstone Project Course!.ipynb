{
    "cells": [
        {
            "cell_type": "code",
            "execution_count": 1,
            "source": [
                "#this notebook will be mainly used for the capstone project.\n",
                "import pandas as pd\n",
                "import numpy as np\n",
                "print(\"Hello Capstone Project Course!\")"
            ],
            "outputs": [
                {
                    "output_type": "stream",
                    "name": "stdout",
                    "text": [
                        "Hello Capstone Project Course!\n"
                    ]
                }
            ],
            "metadata": {}
        }
    ],
    "metadata": {
        "orig_nbformat": 4,
        "language_info": {
            "name": "python",
            "version": "3.8.5",
            "mimetype": "text/x-python",
            "codemirror_mode": {
                "name": "ipython",
                "version": 3
            },
            "pygments_lexer": "ipython3",
            "nbconvert_exporter": "python",
            "file_extension": ".py"
        },
        "kernelspec": {
            "name": "python3",
            "display_name": "Python 3.8.5 64-bit ('base': conda)"
        },
        "interpreter": {
            "hash": "4e3095fcc8b112fcbc7615b57feec01c4e83b59f5a8da774c74173f5226f0977"
        }
    },
    "nbformat": 4,
    "nbformat_minor": 2
}